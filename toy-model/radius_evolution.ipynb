{
 "cells": [
  {
   "cell_type": "code",
   "execution_count": 11,
   "metadata": {},
   "outputs": [],
   "source": [
    "import ipywidgets\n",
    "import matplotlib.pyplot as plt"
   ]
  },
  {
   "cell_type": "code",
   "execution_count": 2,
   "metadata": {},
   "outputs": [],
   "source": [
    "import numpy as np"
   ]
  },
  {
   "cell_type": "code",
   "execution_count": 22,
   "metadata": {},
   "outputs": [],
   "source": [
    "def theta(q,r,Vcr):\n",
    "    return np.exp(-q/r**2/Vcr)\n",
    "\n",
    "def p(theta,r,a):\n",
    "    return 4*(np.power((theta*a/r),2) - np.power(theta*a/r,3)) + np.power(theta*a/r,4)"
   ]
  },
  {
   "cell_type": "code",
   "execution_count": 49,
   "metadata": {},
   "outputs": [],
   "source": [
    "q = 2.**4\n",
    "r = 2.\n",
    "Vcr = 4\n",
    "a = 0.1"
   ]
  },
  {
   "cell_type": "code",
   "execution_count": 65,
   "metadata": {},
   "outputs": [
    {
     "data": {
      "application/vnd.jupyter.widget-view+json": {
       "model_id": "cf37a3eb713d467c8f1ae6ad3e585b79",
       "version_major": 2,
       "version_minor": 0
      },
      "text/plain": [
       "interactive(children=(IntSlider(value=64, description='q', max=200, min=10), FloatSlider(value=2.0, descriptio…"
      ]
     },
     "metadata": {},
     "output_type": "display_data"
    },
    {
     "data": {
      "text/plain": [
       "<function __main__.plot(q=64, r=2, Vcr=4, a=0.1, dt=0.1)>"
      ]
     },
     "execution_count": 65,
     "metadata": {},
     "output_type": "execute_result"
    }
   ],
   "source": [
    "def step(q,r,Vcr,a,fac):\n",
    "    th = theta(q,r,Vcr)\n",
    "    pr = p(th,r,a)\n",
    "    return r - fac*r*pr*q\n",
    "    \n",
    "\n",
    "def plot(q=64,r=2,Vcr=4,a=0.1,dt=0.1):\n",
    "    rs = [];\n",
    "    \n",
    "    for i in range(50000):\n",
    "        if i%100==0:\n",
    "            rs.append(r)\n",
    "        r = step(q,r,Vcr,a,dt);\n",
    "    \n",
    "    plt.plot(rs)\n",
    "    plt.show()\n",
    "\n",
    "ipywidgets.interact(plot, q = (10,200,1), r = (0.1,4,0.1),Vcr = (3,10,0.1),a = (0.01,1.0,0.05),dt=(0.01,2.0,0.05))"
   ]
  },
  {
   "cell_type": "code",
   "execution_count": 53,
   "metadata": {},
   "outputs": [
    {
     "data": {
      "text/plain": [
       "1.6856776252775405"
      ]
     },
     "execution_count": 53,
     "metadata": {},
     "output_type": "execute_result"
    }
   ],
   "source": [
    "r"
   ]
  },
  {
   "cell_type": "code",
   "execution_count": null,
   "metadata": {},
   "outputs": [],
   "source": []
  }
 ],
 "metadata": {
  "kernelspec": {
   "display_name": "Python 3",
   "language": "python",
   "name": "python3"
  },
  "language_info": {
   "codemirror_mode": {
    "name": "ipython",
    "version": 3
   },
   "file_extension": ".py",
   "mimetype": "text/x-python",
   "name": "python",
   "nbconvert_exporter": "python",
   "pygments_lexer": "ipython3",
   "version": "3.6.12"
  }
 },
 "nbformat": 4,
 "nbformat_minor": 4
}
